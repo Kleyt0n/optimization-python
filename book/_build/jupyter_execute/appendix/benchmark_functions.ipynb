{
 "cells": [
  {
   "cell_type": "markdown",
   "id": "4bbc1d49",
   "metadata": {},
   "source": [
    "# Benchmark functions\n",
    "\n",
    "## Without constraints\n",
    "\n",
    "### Rastrigin function\n",
    "\n",
    "$$f(x) = An + \\sum_{i=1}^{n}(x_{1}^{2} - A\\cos(2\\pi x_{i}))$$\n",
    "\n",
    "where $A=10$."
   ]
  },
  {
   "cell_type": "code",
   "execution_count": 1,
   "id": "f4077877",
   "metadata": {},
   "outputs": [
    {
     "ename": "ModuleNotFoundError",
     "evalue": "No module named 'optymus'",
     "output_type": "error",
     "traceback": [
      "\u001b[0;31m---------------------------------------------------------------------------\u001b[0m",
      "\u001b[0;31mModuleNotFoundError\u001b[0m                       Traceback (most recent call last)",
      "Cell \u001b[0;32mIn[1], line 1\u001b[0m\n\u001b[0;32m----> 1\u001b[0m \u001b[38;5;28;01mfrom\u001b[39;00m \u001b[38;5;21;01moptymus\u001b[39;00m\u001b[38;5;21;01m.\u001b[39;00m\u001b[38;5;21;01mutils\u001b[39;00m \u001b[38;5;28;01mimport\u001b[39;00m plot_function, rastrigin_function\n\u001b[1;32m      3\u001b[0m f \u001b[38;5;241m=\u001b[39m rastrigin_function()\n\u001b[1;32m      4\u001b[0m plot_function(f, title\u001b[38;5;241m=\u001b[39m\u001b[38;5;124m'\u001b[39m\u001b[38;5;124mRastrigin Function\u001b[39m\u001b[38;5;124m'\u001b[39m, \u001b[38;5;28mmin\u001b[39m\u001b[38;5;241m=\u001b[39m\u001b[38;5;241m-\u001b[39m\u001b[38;5;241m5.12\u001b[39m, \u001b[38;5;28mmax\u001b[39m\u001b[38;5;241m=\u001b[39m\u001b[38;5;241m5.12\u001b[39m)\n",
      "\u001b[0;31mModuleNotFoundError\u001b[0m: No module named 'optymus'"
     ]
    }
   ],
   "source": [
    "from optymus.utils import plot_function, rastrigin_function\n",
    "\n",
    "f = rastrigin_function()\n",
    "plot_function(f, title='Rastrigin Function', min=-5.12, max=5.12)"
   ]
  },
  {
   "cell_type": "markdown",
   "id": "56e0ae53",
   "metadata": {},
   "source": [
    "### Ackley function\n",
    "\n",
    "$$f(x,y) = -20exp[-0.2\\sqrt{0.5(x^{2}+y^{2})}]-exp(0.5(cos(2\\pi x)+cos(2\\pi y)))+exp(1)+20$$\n",
    "\n",
    "\n",
    "### Eggholder function\n",
    "\n",
    "$$f(x,y) = -(y+47)sin(\\sqrt{|y+x/2+47|})-xsin(\\sqrt{|x-(y+47)|})$$\n",
    "\n",
    "\n",
    "### Cross-in-tray function\n",
    "\n",
    "\n",
    "$$f(x,y) = -0.0001(|\\sin(x)\\sin(y)\\exp(|100-\\sqrt{x^{2}+y^{2}}\\pi|)|+1)^{0.1}$$\n",
    "\n",
    "### Sphere function\n",
    "\n",
    "$$f(x) = \\sum_{i=1}^{n}x_{i}^{2}$$\n",
    "\n",
    "### Rosenbrock function\n",
    "\n",
    "$$f(x,y) = (1-x)^{2}+100(y-x^{2})^{2}$$\n",
    "\n",
    "### Beale function\n",
    "\n",
    "$$f(x,y) = (1.5-x+xy)^{2}+(2.25-x+xy^{2})^{2}+(2.625-x+xy^{3})^{2}$$\n",
    "\n",
    "\n",
    "### Goldstein–Price function\n",
    "\n",
    "$$ f(x,y) = [1+(x+y+1)^{2}(19-14x+3x^{2}-14y+6xy+3y^{2})][30+(2x-3y)^{2}(18-32x+12x^{2}+48y-36xy+27y^{2})]$$\n",
    "\n",
    "### Booth function\n",
    "\n",
    "$$f(x,y) = (x+2y-7)^{2}+(2x+y-5)^{2}$$\n",
    "\n",
    "### Styblinski–Tang function\n",
    "\n",
    "$$f(x) = \\sum_{i=1}^{n}(x_{i}^{4}-16x_{i}^{2}+5x_{i})/2$$\n",
    "\n",
    "\n",
    "### McCormick funtion\n",
    "\n",
    "$$f(x,y) = \\sin(x+y)+(x-y)^{2}-1.5x+2.5y+1$$\n",
    "\n",
    "## With constraints"
   ]
  }
 ],
 "metadata": {
  "jupytext": {
   "formats": "md:myst",
   "text_representation": {
    "extension": ".md",
    "format_name": "myst",
    "format_version": 0.13,
    "jupytext_version": "1.11.5"
   }
  },
  "kernelspec": {
   "display_name": "Python 3",
   "language": "python",
   "name": "python3"
  },
  "language_info": {
   "codemirror_mode": {
    "name": "ipython",
    "version": 3
   },
   "file_extension": ".py",
   "mimetype": "text/x-python",
   "name": "python",
   "nbconvert_exporter": "python",
   "pygments_lexer": "ipython3",
   "version": "3.12.2"
  },
  "source_map": [
   13,
   25,
   30
  ]
 },
 "nbformat": 4,
 "nbformat_minor": 5
}