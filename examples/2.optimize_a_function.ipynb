{
 "cells": [
  {
   "cell_type": "code",
   "execution_count": 1,
   "metadata": {},
   "outputs": [],
   "source": [
    "import sys\n",
    "\n",
    "sys.path.append('../src')"
   ]
  },
  {
   "cell_type": "markdown",
   "metadata": {},
   "source": [
    "## Optimize a function with `optymus.optimizer`"
   ]
  },
  {
   "cell_type": "code",
   "execution_count": 2,
   "metadata": {},
   "outputs": [],
   "source": [
    "# import libraries\n",
    "import jax.numpy as jnp\n",
    "from optymus import Optimizer\n",
    "from optymus.benchmark import MccormickFunction\n"
   ]
  },
  {
   "cell_type": "code",
   "execution_count": 3,
   "metadata": {},
   "outputs": [],
   "source": [
    "# define the objective function\n",
    "f = MccormickFunction()\n",
    "\n",
    "# define the initial point\n",
    "initial_point = jnp.array([2.0, 2.0])"
   ]
  },
  {
   "cell_type": "code",
   "execution_count": 5,
   "metadata": {},
   "outputs": [],
   "source": [
    "# instantiate the optimizer with the objective function and the initial point\n",
    "# select the method to be used\n",
    "optimizer = Optimizer(f_obj=f,\n",
    "                      x0=initial_point,\n",
    "                      method='gradient_descent',\n",
    "                      )"
   ]
  },
  {
   "cell_type": "code",
   "execution_count": 6,
   "metadata": {},
   "outputs": [
    {
     "data": {
      "text/html": [
       "<div>\n",
       "<style scoped>\n",
       "    .dataframe tbody tr th:only-of-type {\n",
       "        vertical-align: middle;\n",
       "    }\n",
       "\n",
       "    .dataframe tbody tr th {\n",
       "        vertical-align: top;\n",
       "    }\n",
       "\n",
       "    .dataframe thead th {\n",
       "        text-align: right;\n",
       "    }\n",
       "</style>\n",
       "<table border=\"1\" class=\"dataframe\">\n",
       "  <thead>\n",
       "    <tr style=\"text-align: right;\">\n",
       "      <th></th>\n",
       "      <th>Method</th>\n",
       "      <th>Initial Guess</th>\n",
       "      <th>Optimal Solution</th>\n",
       "      <th>Objective Function Value</th>\n",
       "      <th>Number of Iterations</th>\n",
       "    </tr>\n",
       "  </thead>\n",
       "  <tbody>\n",
       "    <tr>\n",
       "      <th>Optimization Results</th>\n",
       "      <td>gradient_descent</td>\n",
       "      <td>[2.0, 2.0]</td>\n",
       "      <td>[2.5943940672216663, 1.594393990636319]</td>\n",
       "      <td>1.228369698610758</td>\n",
       "      <td>5</td>\n",
       "    </tr>\n",
       "  </tbody>\n",
       "</table>\n",
       "</div>"
      ],
      "text/plain": [
       "                                Method Initial Guess  \\\n",
       "Optimization Results  gradient_descent    [2.0, 2.0]   \n",
       "\n",
       "                                             Optimal Solution  \\\n",
       "Optimization Results  [2.5943940672216663, 1.594393990636319]   \n",
       "\n",
       "                     Objective Function Value  Number of Iterations  \n",
       "Optimization Results        1.228369698610758                     5  "
      ]
     },
     "execution_count": 6,
     "metadata": {},
     "output_type": "execute_result"
    }
   ],
   "source": [
    "# print a short report about the optimization process\n",
    "optimizer.print_report()"
   ]
  }
 ],
 "metadata": {
  "kernelspec": {
   "display_name": "base",
   "language": "python",
   "name": "python3"
  },
  "language_info": {
   "codemirror_mode": {
    "name": "ipython",
    "version": 3
   },
   "file_extension": ".py",
   "mimetype": "text/x-python",
   "name": "python",
   "nbconvert_exporter": "python",
   "pygments_lexer": "ipython3",
   "version": "3.1.undefined"
  },
  "orig_nbformat": 4
 },
 "nbformat": 4,
 "nbformat_minor": 2
}
