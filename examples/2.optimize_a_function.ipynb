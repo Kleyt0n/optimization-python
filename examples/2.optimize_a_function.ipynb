{
 "cells": [
  {
   "cell_type": "code",
   "execution_count": 1,
   "metadata": {},
   "outputs": [],
   "source": [
    "import sys\n",
    "\n",
    "sys.path.append('../src')"
   ]
  },
  {
   "cell_type": "markdown",
   "metadata": {},
   "source": [
    "## Optimize a function with `optymus.optimizer`"
   ]
  },
  {
   "cell_type": "code",
   "execution_count": 2,
   "metadata": {},
   "outputs": [],
   "source": [
    "# import libraries\n",
    "import jax.numpy as jnp\n",
    "from optymus.benchmark import MccormickFunction\n",
    "from optymus.optimizer import Optimizer"
   ]
  },
  {
   "cell_type": "code",
   "execution_count": 3,
   "metadata": {},
   "outputs": [],
   "source": [
    "# define the objective function\n",
    "f = MccormickFunction()\n",
    "\n",
    "# define the initial point\n",
    "initial_point = jnp.array([2.0, 2.0])"
   ]
  },
  {
   "cell_type": "code",
   "execution_count": 4,
   "metadata": {},
   "outputs": [],
   "source": [
    "# instantiate the optimizer with the objective function and the initial point\n",
    "# select the method to be used\n",
    "optimizer = Optimizer(f_obj=f,\n",
    "                      x0=initial_point,\n",
    "                      method='adagrad',\n",
    "                      )"
   ]
  },
  {
   "cell_type": "code",
   "execution_count": 5,
   "metadata": {},
   "outputs": [
    {
     "data": {
      "text/html": [
       "<div>\n",
       "<style scoped>\n",
       "    .dataframe tbody tr th:only-of-type {\n",
       "        vertical-align: middle;\n",
       "    }\n",
       "\n",
       "    .dataframe tbody tr th {\n",
       "        vertical-align: top;\n",
       "    }\n",
       "\n",
       "    .dataframe thead th {\n",
       "        text-align: right;\n",
       "    }\n",
       "</style>\n",
       "<table border=\"1\" class=\"dataframe\">\n",
       "  <thead>\n",
       "    <tr style=\"text-align: right;\">\n",
       "      <th></th>\n",
       "      <th>Method</th>\n",
       "      <th>Initial Guess</th>\n",
       "      <th>Optimal Solution</th>\n",
       "      <th>Objective Function Value</th>\n",
       "      <th>Number of Iterations</th>\n",
       "    </tr>\n",
       "  </thead>\n",
       "  <tbody>\n",
       "    <tr>\n",
       "      <th>Optimization Results</th>\n",
       "      <td>adagrad</td>\n",
       "      <td>[2.0, 2.0]</td>\n",
       "      <td>[2.1382077225388354, 1.821960240406328]</td>\n",
       "      <td>6.479147848756588</td>\n",
       "      <td>99</td>\n",
       "    </tr>\n",
       "  </tbody>\n",
       "</table>\n",
       "</div>"
      ],
      "text/plain": [
       "                       Method Initial Guess  \\\n",
       "Optimization Results  adagrad    [2.0, 2.0]   \n",
       "\n",
       "                                             Optimal Solution  \\\n",
       "Optimization Results  [2.1382077225388354, 1.821960240406328]   \n",
       "\n",
       "                     Objective Function Value  Number of Iterations  \n",
       "Optimization Results        6.479147848756588                    99  "
      ]
     },
     "execution_count": 5,
     "metadata": {},
     "output_type": "execute_result"
    }
   ],
   "source": [
    "# print a short report about the optimization process\n",
    "optimizer.print_report()"
   ]
  }
 ],
 "metadata": {
  "kernelspec": {
   "display_name": "base",
   "language": "python",
   "name": "python3"
  },
  "language_info": {
   "codemirror_mode": {
    "name": "ipython",
    "version": 3
   },
   "file_extension": ".py",
   "mimetype": "text/x-python",
   "name": "python",
   "nbconvert_exporter": "python",
   "pygments_lexer": "ipython3",
   "version": "3.11.9"
  },
  "orig_nbformat": 4
 },
 "nbformat": 4,
 "nbformat_minor": 2
}
