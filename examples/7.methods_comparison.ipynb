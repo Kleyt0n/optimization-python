{
 "cells": [
  {
   "cell_type": "code",
   "execution_count": 1,
   "metadata": {},
   "outputs": [],
   "source": [
    "import sys\n",
    "\n",
    "sys.path.append('../src')"
   ]
  },
  {
   "cell_type": "markdown",
   "metadata": {},
   "source": [
    "# Comparing the Optimization Methods"
   ]
  },
  {
   "cell_type": "code",
   "execution_count": 2,
   "metadata": {},
   "outputs": [],
   "source": [
    "# import libraries\n",
    "import time\n",
    "\n",
    "import jax.numpy as jnp\n",
    "import numpy as np\n",
    "import pandas as pd\n",
    "from optymus import Optimizer\n",
    "from optymus.benchmark import MccormickFunction\n"
   ]
  },
  {
   "cell_type": "code",
   "execution_count": 3,
   "metadata": {},
   "outputs": [],
   "source": [
    "# define the objective function\n",
    "f = MccormickFunction()\n",
    "\n",
    "# define the initial point\n",
    "initial_point = jnp.array([-2.0, 5.0])"
   ]
  },
  {
   "cell_type": "code",
   "execution_count": 4,
   "metadata": {},
   "outputs": [],
   "source": [
    "methods = ['gradient_descent', 'newton_raphson', 'bfgs', 'conjugate_gradient', 'univariant', 'powell']\n",
    "\n",
    "results = pd.DataFrame(columns=['method', 'x_opt', 'f_min', 'n_iter', 'time'])\n",
    "\n",
    "for method in methods:\n",
    "    time_mean = []\n",
    "    for _ in range(10):\n",
    "        time_start = time.time()\n",
    "        opt = Optimizer(\n",
    "            f_obj=f,\n",
    "            x0=initial_point,\n",
    "            method=method,\n",
    "            verbose=False,\n",
    "        )\n",
    "        end_time = time.time()\n",
    "        time_mean.append(end_time - time_start)\n",
    "\n",
    "    opt_results = pd.DataFrame({\n",
    "        'method': [opt.get_results()['method_name']],\n",
    "        'x_opt': [opt.get_results()['xopt']],\n",
    "        'f_min': [opt.get_results()['fmin']],\n",
    "        'n_iter': [opt.get_results()['num_iter']],\n",
    "        'time':  [np.mean(time_mean)]\n",
    "    })\n",
    "\n",
    "    results = pd.concat([results, opt_results], axis=0, ignore_index=True)"
   ]
  },
  {
   "cell_type": "code",
   "execution_count": 5,
   "metadata": {},
   "outputs": [
    {
     "data": {
      "text/html": [
       "<div>\n",
       "<style scoped>\n",
       "    .dataframe tbody tr th:only-of-type {\n",
       "        vertical-align: middle;\n",
       "    }\n",
       "\n",
       "    .dataframe tbody tr th {\n",
       "        vertical-align: top;\n",
       "    }\n",
       "\n",
       "    .dataframe thead th {\n",
       "        text-align: right;\n",
       "    }\n",
       "</style>\n",
       "<table border=\"1\" class=\"dataframe\">\n",
       "  <thead>\n",
       "    <tr style=\"text-align: right;\">\n",
       "      <th></th>\n",
       "      <th>method</th>\n",
       "      <th>x_opt</th>\n",
       "      <th>f_min</th>\n",
       "      <th>n_iter</th>\n",
       "      <th>time</th>\n",
       "    </tr>\n",
       "  </thead>\n",
       "  <tbody>\n",
       "    <tr>\n",
       "      <th>3</th>\n",
       "      <td>Conjugate Gradients (fletcher_reeves)</td>\n",
       "      <td>[2.5943937296143837, 1.5943937378695863]</td>\n",
       "      <td>1.228369698612001</td>\n",
       "      <td>2</td>\n",
       "      <td>0.124270</td>\n",
       "    </tr>\n",
       "    <tr>\n",
       "      <th>2</th>\n",
       "      <td>BFGS</td>\n",
       "      <td>[2.5943968281443293, 1.5943968270939195]</td>\n",
       "      <td>1.2283696986139123</td>\n",
       "      <td>3</td>\n",
       "      <td>0.128301</td>\n",
       "    </tr>\n",
       "    <tr>\n",
       "      <th>0</th>\n",
       "      <td>Gradient Descent</td>\n",
       "      <td>[2.5943948025903207, 1.5943948003278023]</td>\n",
       "      <td>1.2283696986089137</td>\n",
       "      <td>5</td>\n",
       "      <td>0.168452</td>\n",
       "    </tr>\n",
       "    <tr>\n",
       "      <th>1</th>\n",
       "      <td>Newton-Raphson</td>\n",
       "      <td>[-0.547197564323195, -1.5471975594744531]</td>\n",
       "      <td>-1.9132229549810362</td>\n",
       "      <td>4</td>\n",
       "      <td>0.504986</td>\n",
       "    </tr>\n",
       "    <tr>\n",
       "      <th>4</th>\n",
       "      <td>Univariant</td>\n",
       "      <td>[5.7359891087442225, 4.735988299915146]</td>\n",
       "      <td>4.36996235220076</td>\n",
       "      <td>7</td>\n",
       "      <td>0.933768</td>\n",
       "    </tr>\n",
       "    <tr>\n",
       "      <th>5</th>\n",
       "      <td>Powell</td>\n",
       "      <td>[5.735987767487164, 4.7359877492484745]</td>\n",
       "      <td>4.369962352198549</td>\n",
       "      <td>3</td>\n",
       "      <td>1.068190</td>\n",
       "    </tr>\n",
       "  </tbody>\n",
       "</table>\n",
       "</div>"
      ],
      "text/plain": [
       "                                  method  \\\n",
       "3  Conjugate Gradients (fletcher_reeves)   \n",
       "2                                   BFGS   \n",
       "0                       Gradient Descent   \n",
       "1                         Newton-Raphson   \n",
       "4                             Univariant   \n",
       "5                                 Powell   \n",
       "\n",
       "                                       x_opt                f_min n_iter  \\\n",
       "3   [2.5943937296143837, 1.5943937378695863]    1.228369698612001      2   \n",
       "2   [2.5943968281443293, 1.5943968270939195]   1.2283696986139123      3   \n",
       "0   [2.5943948025903207, 1.5943948003278023]   1.2283696986089137      5   \n",
       "1  [-0.547197564323195, -1.5471975594744531]  -1.9132229549810362      4   \n",
       "4    [5.7359891087442225, 4.735988299915146]     4.36996235220076      7   \n",
       "5    [5.735987767487164, 4.7359877492484745]    4.369962352198549      3   \n",
       "\n",
       "       time  \n",
       "3  0.124270  \n",
       "2  0.128301  \n",
       "0  0.168452  \n",
       "1  0.504986  \n",
       "4  0.933768  \n",
       "5  1.068190  "
      ]
     },
     "execution_count": 5,
     "metadata": {},
     "output_type": "execute_result"
    }
   ],
   "source": [
    "results.sort_values(by='time', ascending=True, inplace=True)\n",
    "results"
   ]
  }
 ],
 "metadata": {
  "kernelspec": {
   "display_name": "optymus",
   "language": "python",
   "name": "python3"
  },
  "language_info": {
   "codemirror_mode": {
    "name": "ipython",
    "version": 3
   },
   "file_extension": ".py",
   "mimetype": "text/x-python",
   "name": "python",
   "nbconvert_exporter": "python",
   "pygments_lexer": "ipython3",
   "version": "3.11.9"
  }
 },
 "nbformat": 4,
 "nbformat_minor": 2
}
